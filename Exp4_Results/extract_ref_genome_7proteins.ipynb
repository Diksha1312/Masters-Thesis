{
 "cells": [
  {
   "cell_type": "code",
   "execution_count": 1,
   "id": "c068ba9b",
   "metadata": {},
   "outputs": [],
   "source": [
    "import csv\n",
    "import os\n",
    "import yaml"
   ]
  },
  {
   "cell_type": "code",
   "execution_count": 2,
   "id": "3a8c1507",
   "metadata": {},
   "outputs": [
    {
     "data": {
      "text/plain": [
       "'C:\\\\Users\\\\Lenovo\\\\Documents\\\\Masters_thesis'"
      ]
     },
     "execution_count": 2,
     "metadata": {},
     "output_type": "execute_result"
    }
   ],
   "source": [
    "os.chdir(\"../\")\n",
    "%pwd"
   ]
  },
  {
   "cell_type": "code",
   "execution_count": 3,
   "id": "c64dcb73",
   "metadata": {},
   "outputs": [],
   "source": [
    "yaml_file_path = \"config.yaml\"\n",
    "\n",
    "with open(yaml_file_path, \"r\") as file:\n",
    "    config_data = yaml.safe_load(file)"
   ]
  },
  {
   "cell_type": "code",
   "execution_count": 4,
   "id": "bf81f581",
   "metadata": {},
   "outputs": [
    {
     "name": "stdout",
     "output_type": "stream",
     "text": [
      "data\n",
      "ref_genome\n",
      "ref_genome.txt\n"
     ]
    }
   ],
   "source": [
    "print(config_data['ROOT']['DATA_FOLDER'])\n",
    "DATA_ROOT = config_data['ROOT']['DATA_FOLDER']\n",
    "print(config_data['ROOT']['REF_GENOME_DIR'])\n",
    "REF_GEN_DIR = config_data['ROOT']['REF_GENOME_DIR']\n",
    "print(config_data['whole_genome_config']['REF_GENOME_PATH'])\n",
    "REF_GEN_PATH = config_data['whole_genome_config']['REF_GENOME_PATH']"
   ]
  },
  {
   "cell_type": "code",
   "execution_count": 5,
   "id": "a213c3f8",
   "metadata": {},
   "outputs": [
    {
     "name": "stdout",
     "output_type": "stream",
     "text": [
      "540\n",
      "1914\n",
      "5835\n",
      "1500\n",
      "918\n",
      "870\n",
      "249\n",
      "594\n",
      "339\n",
      "417\n",
      "39\n",
      "2795\n",
      "1803\n",
      "1581\n",
      "1038\n",
      "894\n",
      "3822\n",
      "828\n",
      "228\n",
      "669\n",
      "186\n",
      "366\n",
      "132\n",
      "366\n",
      "1260\n",
      "294\n",
      "222\n"
     ]
    }
   ],
   "source": [
    "import csv\n",
    "\n",
    "with open(os.path.join(DATA_ROOT, REF_GEN_DIR, REF_GEN_PATH), 'r') as read_obj:\n",
    "    csv_reader = csv.reader(read_obj)\n",
    "    row = next(csv_reader)\n",
    "NS3 = \" \"\n",
    "for i in row:\n",
    "    NSP1 = i[265:805]\n",
    "    NSP2 = i[805:2719]\n",
    "    NSP3 = i[2719:8554]\n",
    "    NSP4 = i[8554:10054]\n",
    "    NSP5 = i[10054:10972]\n",
    "    NSP6 = i[10972:11842]\n",
    "    NSP7 = i[11842:12091]\n",
    "    NSP8 = i[12091:12685]\n",
    "    NSP9 = i[12685:13024]\n",
    "    NSP10 = i[13024:13441]\n",
    "    NSP11 = i[13441:13480]\n",
    "    NSP12 = i[13441:16236]\n",
    "    NSP13 = i[16236:18039]\n",
    "    NSP14 = i[18039:19620]\n",
    "    NSP15 = i[19620:20658]\n",
    "    NSP16 = i[20658:21552]\n",
    "    Spike = i[21562:25384]\n",
    "    NS3 = i[25392:26220]\n",
    "    E = i[26244:26472]\n",
    "    M = i[26522:27191]\n",
    "    NS6 = i[27201:27387]\n",
    "    NS7a = i[27393:27759]\n",
    "    NS7b = i[27755:27887]\n",
    "    NS8 = i[27893:28259]\n",
    "    N = i[28273:29533]\n",
    "    NS9b = i[28283:28577]\n",
    "    NS9c = i[28733:28955]\n",
    "    \n",
    "#print(NS3)\n",
    "print(len(NSP1))\n",
    "print(len(NSP2))\n",
    "print(len(NSP3))\n",
    "print(len(NSP4))\n",
    "print(len(NSP5))\n",
    "print(len(NSP6))\n",
    "print(len(NSP7))\n",
    "print(len(NSP8))\n",
    "print(len(NSP9))\n",
    "print(len(NSP10))\n",
    "print(len(NSP11))\n",
    "print(len(NSP12))\n",
    "print(len(NSP13))\n",
    "print(len(NSP14))\n",
    "print(len(NSP15))\n",
    "print(len(NSP16))\n",
    "print(len(Spike))\n",
    "print(len(NS3))\n",
    "print(len(E))\n",
    "print(len(M))\n",
    "print(len(NS6))\n",
    "print(len(NS7a))\n",
    "print(len(NS7b))\n",
    "print(len(NS8))\n",
    "print(len(N))\n",
    "print(len(NS9b))\n",
    "print(len(NS9c))"
   ]
  },
  {
   "cell_type": "markdown",
   "id": "95ac6df8",
   "metadata": {},
   "source": [
    "# NSP- 1,3,5,8,9,13,15"
   ]
  },
  {
   "cell_type": "code",
   "execution_count": 6,
   "id": "b8a1425e",
   "metadata": {},
   "outputs": [],
   "source": [
    "# Concatenate all protein sequences\n",
    "ref_genome = NSP1 + NSP3 + NSP5 + NSP8 + NSP9 + NSP13 + NSP15"
   ]
  },
  {
   "cell_type": "code",
   "execution_count": 7,
   "id": "ae52fb0c",
   "metadata": {},
   "outputs": [
    {
     "data": {
      "text/plain": [
       "11067"
      ]
     },
     "execution_count": 7,
     "metadata": {},
     "output_type": "execute_result"
    }
   ],
   "source": [
    "len(ref_genome)"
   ]
  },
  {
   "cell_type": "code",
   "execution_count": 8,
   "id": "e050f3b7",
   "metadata": {},
   "outputs": [
    {
     "name": "stdout",
     "output_type": "stream",
     "text": [
      "Reference genome saved to data\\ref_genome\\final_ref_genome_7proteins.txt\n"
     ]
    }
   ],
   "source": [
    "output_file_path = os.path.join(DATA_ROOT, REF_GEN_DIR, \"final_ref_genome_7proteins.txt\")\n",
    "with open(output_file_path, 'w') as output_file:\n",
    "    output_file.write(ref_genome)\n",
    "\n",
    "print(f\"Reference genome saved to {output_file_path}\")"
   ]
  },
  {
   "cell_type": "code",
   "execution_count": null,
   "id": "b392aaa9",
   "metadata": {},
   "outputs": [],
   "source": []
  }
 ],
 "metadata": {
  "kernelspec": {
   "display_name": "Python 3 (ipykernel)",
   "language": "python",
   "name": "python3"
  },
  "language_info": {
   "codemirror_mode": {
    "name": "ipython",
    "version": 3
   },
   "file_extension": ".py",
   "mimetype": "text/x-python",
   "name": "python",
   "nbconvert_exporter": "python",
   "pygments_lexer": "ipython3",
   "version": "3.10.13"
  }
 },
 "nbformat": 4,
 "nbformat_minor": 5
}
